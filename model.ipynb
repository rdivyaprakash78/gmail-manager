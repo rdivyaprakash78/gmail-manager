{
 "cells": [
  {
   "cell_type": "code",
   "execution_count": 67,
   "metadata": {},
   "outputs": [],
   "source": [
    "import os\n",
    "import torch\n",
    "import pandas as pd\n",
    "from transformers import AutoTokenizer, DistilBertForSequenceClassification\n",
    "from sklearn.model_selection import train_test_split\n",
    "from datasets import Dataset\n",
    "import regex as re\n",
    "import spacy"
   ]
  },
  {
   "cell_type": "code",
   "execution_count": 68,
   "metadata": {},
   "outputs": [],
   "source": [
    "nlp = spacy.load('en_core_web_sm')"
   ]
  },
  {
   "cell_type": "code",
   "execution_count": 69,
   "metadata": {},
   "outputs": [],
   "source": [
    "path = r\"C:/Hackathon/Gmail RAG/Data\"\n",
    "os.chdir(path)\n",
    "\n",
    "data = pd.read_csv(r\"balanced_emails.csv\")"
   ]
  },
  {
   "cell_type": "code",
   "execution_count": 70,
   "metadata": {},
   "outputs": [
    {
     "data": {
      "text/plain": [
       "0    Subject : Meeting Confirmation\\nBody : Hi, I w...\n",
       "1    Subject : Feedback Request\\nBody : Hello, I ho...\n",
       "2    Subject : Project Update Needed\\nBody : Hi, Co...\n",
       "3    Subject : Invoice Approval\\nBody : Dear [Name]...\n",
       "4    Subject : Event RSVP\\nBody : Hello, We are org...\n",
       "Name: text, dtype: object"
      ]
     },
     "execution_count": 70,
     "metadata": {},
     "output_type": "execute_result"
    }
   ],
   "source": [
    "data[\"text\"].head()"
   ]
  },
  {
   "cell_type": "code",
   "execution_count": 71,
   "metadata": {},
   "outputs": [],
   "source": [
    "def has_linkedin_url(text):\n",
    "    url_pattern = r\"https : \\/\\/(?:www\\.)?linkedin\\.com[\\w\\-_\\/.?&=]*\"\n",
    "    if re.search(url_pattern, text):\n",
    "        return 1\n",
    "    return 0 "
   ]
  },
  {
   "cell_type": "code",
   "execution_count": 72,
   "metadata": {},
   "outputs": [],
   "source": [
    "def clean_text_with_linkedin_url(df):\n",
    "    if(df[\"has_linkedin_url\"] == 1):\n",
    "        initial_cleaned_text = re.sub(r'[^A-Za-z0-9]', ' ', df[\"text\"])\n",
    "        \n",
    "        not_needed = [\"https\", \"linkedin\", \"null\", \"www\", \"com\", \"email\"]\n",
    "        doc = nlp(initial_cleaned_text)\n",
    "        cleaned_text = []\n",
    "\n",
    "        for token in doc:\n",
    "        \n",
    "            is_valid_token = (\n",
    "                \" \" not in token.text.lower()\n",
    "                and token.text.lower() not in not_needed\n",
    "                and not token.is_stop \n",
    "                and token.is_alpha \n",
    "            )\n",
    "            \n",
    "            if is_valid_token:\n",
    "                cleaned_text.append(token.text.lower())\n",
    "\n",
    "        cleaned_text = \" \".join(cleaned_text)\n",
    "\n",
    "        return cleaned_text\n",
    "    else:\n",
    "        return df[\"text\"]\n",
    "\n"
   ]
  },
  {
   "cell_type": "code",
   "execution_count": 73,
   "metadata": {},
   "outputs": [],
   "source": [
    "data[\"has_linkedin_url\"] = data[\"text\"].apply(has_linkedin_url)\n",
    "data[\"cleaned_text\"] = data.apply(clean_text_with_linkedin_url, axis=1)"
   ]
  },
  {
   "cell_type": "code",
   "execution_count": 74,
   "metadata": {},
   "outputs": [],
   "source": [
    "data.to_csv(\"cleaned_urls.csv\")    "
   ]
  },
  {
   "cell_type": "code",
   "execution_count": 7,
   "metadata": {},
   "outputs": [],
   "source": []
  },
  {
   "cell_type": "code",
   "execution_count": 8,
   "metadata": {},
   "outputs": [
    {
     "name": "stdout",
     "output_type": "stream",
     "text": [
      "subject   application Data Engineer   Startup Meddon Talent body   update Meddon Talent                                                             email intended Divyaprakash Rathinasabapathy   AI Engineer   Learn included   https     www linkedin com help linkedin answer 4788   lang en   lipi urn   3Ali   3Apage   3Aemail email jobs application rejected 01   3B86PtA0uZR3K6PEPicgB4dw   3D   3D   midToken AQEOOGEuxIqB A   midSig 2hX9tZ6RpwRXA1   trk eml email jobs application rejected 01 SecurityHelp 0 textfooterglimmer   trkEmail eml email jobs application rejected 01 SecurityHelp 0 textfooterglimmer null ddvsp4 m659l110 z0 null null   eid ddvsp4 m659l110 z0   otpToken MWEwNTE3ZTMxNTI2YzFjNmIwMjQwNGVkNDUxOWU0YmQ4ZmM5ZDY0MTllYWY4ODYxNzljNTAwNjY0YjVmNWFmMWY0ZDVkZmEwNDFmMGNmZDIwM2JmZDViYjNjNzM5NmFmMzg1OWQ5MzE3ZTQzNDljNzI5NjBlNywxLDE   3D receiving LinkedIn notification emails   Unsubscribe   https     www linkedin com comm psettings email unsubscribe   lipi urn   3Ali   3Apage   3Aemail email jobs application rejected 01   3B86PtA0uZR3K6PEPicgB4dw   3D   3D   midToken AQEOOGEuxIqB A   midSig 2hX9tZ6RpwRXA1   trk eml email jobs application rejected 01 unsubscribe 0 textfooterglimmer   trkEmail eml email jobs application rejected 01 unsubscribe 0 textfooterglimmer null ddvsp4 m659l110 z0 null null   eid ddvsp4 m659l110 z0   loid AQHcRbDBU81FwgAAAZSEjyL1dwNmwgxVKtyDj8RA8yUzJ6Z rHK1gYtHQ IDeTGtS3C 2vyL8lty43nfthgKJRhf1IhmfI87HSJk30JiR7VFA2d3MAuN6331qTNbmvySUIg Help   https     www linkedin com help linkedin answer 67   lang en   lipi urn   3Ali   3Apage   3Aemail email jobs application rejected 01   3B86PtA0uZR3K6PEPicgB4dw   3D   3D   midToken AQEOOGEuxIqB A   midSig 2hX9tZ6RpwRXA1   trk eml email jobs application rejected 01 help 0 textfooterglimmer   trkEmail eml email jobs application rejected 01 help 0 textfooterglimmer null ddvsp4 m659l110 z0 null null   eid ddvsp4 m659l110 z0   otpToken MWEwNTE3ZTMxNTI2YzFjNmIwMjQwNGVkNDUxOWU0YmQ4ZmM5ZDY0MTllYWY4ODYxNzljNTAwNjY0YjVmNWFmMWY0ZDVkZmEwNDFmMGNmZDIwM2JmZDViYjNjNzM5NmFmMzg1OWQ5MzE3ZTQzNDljNzI5NjBlNywxLDE   3D    2025 LinkedIn Corporation   1zwnj000 West Maude Avenue   Sunnyvale   CA 94085   LinkedIn LinkedIn logo registered trademarks LinkedIn  \n"
     ]
    }
   ],
   "source": [
    "print(cleaned_text)"
   ]
  },
  {
   "cell_type": "code",
   "execution_count": 9,
   "metadata": {},
   "outputs": [],
   "source": [
    "import spacy"
   ]
  },
  {
   "cell_type": "code",
   "execution_count": 10,
   "metadata": {},
   "outputs": [],
   "source": [
    "nlp = spacy.load('en_core_web_sm')"
   ]
  },
  {
   "cell_type": "code",
   "execution_count": 11,
   "metadata": {},
   "outputs": [],
   "source": []
  },
  {
   "cell_type": "code",
   "execution_count": 12,
   "metadata": {},
   "outputs": [],
   "source": [
    "filtered_tokens = [token.text for token in doc if token.text.lower() in nlp.vocab]\n"
   ]
  },
  {
   "cell_type": "code",
   "execution_count": 13,
   "metadata": {},
   "outputs": [],
   "source": [
    "filtered_text = ' '.join(filtered_tokens)"
   ]
  },
  {
   "cell_type": "code",
   "execution_count": 14,
   "metadata": {},
   "outputs": [
    {
     "data": {
      "text/plain": [
       "'subject    application    body    update                                                              email intended    AI    included    https      www linkedin com help linkedin answer 4788    lang en    lipi urn          email jobs application rejected 01             A       trk eml email jobs application rejected 01 0 textfooterglimmer    eml email jobs application rejected 01 0 textfooterglimmer null ddvsp4 m659l110 z0 null null    eid ddvsp4 m659l110 z0       receiving LinkedIn notification emails    Unsubscribe    https      www linkedin com comm psettings email unsubscribe    lipi urn          email jobs application rejected 01             A       trk eml email jobs application rejected 01 unsubscribe 0 textfooterglimmer    eml email jobs application rejected 01 unsubscribe 0 textfooterglimmer null ddvsp4 m659l110 z0 null null    eid ddvsp4 m659l110 z0    loid Help    https      www linkedin com help linkedin answer 67    lang en    lipi urn          email jobs application rejected 01             A       trk eml email jobs application rejected 01 help 0 textfooterglimmer    eml email jobs application rejected 01 help 0 textfooterglimmer null ddvsp4 m659l110 z0 null null    eid ddvsp4 m659l110 z0           2025 LinkedIn    1zwnj000       CA 94085    LinkedIn LinkedIn logo registered trademarks LinkedIn  '"
      ]
     },
     "execution_count": 14,
     "metadata": {},
     "output_type": "execute_result"
    }
   ],
   "source": [
    "filtered_text"
   ]
  },
  {
   "cell_type": "code",
   "execution_count": null,
   "metadata": {},
   "outputs": [
    {
     "name": "stdout",
     "output_type": "stream",
     "text": [
      "subject   ADJ\n",
      "application   NOUN\n",
      "data   NOUN\n",
      "engineer   NOUN\n",
      "startup   NOUN\n",
      "meddon   VERB\n",
      "talent   NOUN\n",
      "body   NOUN\n",
      "update   NOUN\n",
      "meddon   PROPN\n",
      "talent   NOUN\n",
      "intended   VERB\n",
      "divyaprakash   NOUN\n",
      "rathinasabapathy   NOUN\n",
      "ai   NOUN\n",
      "engineer   NOUN\n",
      "learn   VERB\n",
      "included   VERB\n",
      "help   AUX\n",
      "answer   VERB\n",
      "lang   PROPN\n",
      "en   X\n",
      "lipi   ADJ\n",
      "urn   NOUN\n",
      "jobs   NOUN\n",
      "application   NOUN\n",
      "rejected   VERB\n",
      "midtoken   VERB\n",
      "aqeoogeuxiqb   NOUN\n",
      "midsig   NOUN\n",
      "trk   VERB\n",
      "eml   ADJ\n",
      "jobs   NOUN\n",
      "application   NOUN\n",
      "rejected   VERB\n",
      "securityhelp   NOUN\n",
      "textfooterglimmer   PROPN\n",
      "trkemail   NOUN\n",
      "eml   ADJ\n",
      "jobs   NOUN\n",
      "application   NOUN\n",
      "rejected   VERB\n",
      "securityhelp   NOUN\n",
      "textfooterglimmer   PROPN\n",
      "eid   PROPN\n",
      "otptoken   VERB\n",
      "receiving   VERB\n",
      "notification   NOUN\n",
      "emails   NOUN\n",
      "unsubscribe   ADJ\n",
      "comm   NOUN\n",
      "psettings   NOUN\n",
      "unsubscribe   VERB\n",
      "lipi   VERB\n",
      "urn   NOUN\n",
      "jobs   NOUN\n",
      "application   NOUN\n",
      "rejected   VERB\n",
      "midtoken   VERB\n",
      "aqeoogeuxiqb   NOUN\n",
      "midsig   NOUN\n",
      "trk   VERB\n",
      "eml   ADJ\n",
      "jobs   NOUN\n",
      "application   NOUN\n",
      "rejected   VERB\n",
      "unsubscribe   ADJ\n",
      "textfooterglimmer   PROPN\n",
      "trkemail   PROPN\n",
      "eml   ADJ\n",
      "jobs   NOUN\n",
      "application   NOUN\n",
      "rejected   VERB\n",
      "unsubscribe   ADJ\n",
      "textfooterglimmer   PROPN\n",
      "eid   PROPN\n",
      "loid   NOUN\n",
      "help   NOUN\n",
      "help   VERB\n",
      "answer   VERB\n",
      "lang   PROPN\n",
      "en   X\n",
      "lipi   ADJ\n",
      "urn   NOUN\n",
      "jobs   NOUN\n",
      "application   NOUN\n",
      "rejected   VERB\n",
      "midtoken   VERB\n",
      "aqeoogeuxiqb   NOUN\n",
      "midsig   NOUN\n",
      "trk   VERB\n",
      "eml   ADJ\n",
      "jobs   NOUN\n",
      "application   NOUN\n",
      "rejected   VERB\n",
      "help   NOUN\n",
      "textfooterglimmer   PROPN\n",
      "trkemail   NOUN\n",
      "eml   ADJ\n",
      "jobs   NOUN\n",
      "application   NOUN\n",
      "rejected   VERB\n",
      "help   NOUN\n",
      "textfooterglimmer   PROPN\n",
      "eid   PROPN\n",
      "otptoken   VERB\n",
      "corporation   NOUN\n",
      "west   PROPN\n",
      "maude   NOUN\n",
      "avenue   NOUN\n",
      "sunnyvale   NOUN\n",
      "logo   NOUN\n",
      "registered   VERB\n",
      "trademarks   NOUN\n",
      "subject application data engineer startup meddon talent body update meddon talent intended divyaprakash rathinasabapathy ai engineer learn included help answer lang en lipi urn jobs application rejected midtoken aqeoogeuxiqb midsig trk eml jobs application rejected securityhelp textfooterglimmer trkemail eml jobs application rejected securityhelp textfooterglimmer eid otptoken receiving notification emails unsubscribe comm psettings unsubscribe lipi urn jobs application rejected midtoken aqeoogeuxiqb midsig trk eml jobs application rejected unsubscribe textfooterglimmer trkemail eml jobs application rejected unsubscribe textfooterglimmer eid loid help help answer lang en lipi urn jobs application rejected midtoken aqeoogeuxiqb midsig trk eml jobs application rejected help textfooterglimmer trkemail eml jobs application rejected help textfooterglimmer eid otptoken corporation west maude avenue sunnyvale logo registered trademarks\n"
     ]
    }
   ],
   "source": [
    "\n",
    "\n",
    "\n",
    "nlp = spacy.load('en_core_web_sm')\n",
    "text = cleaned_text\n",
    "\n",
    "not_needed = [\"https\", \"linkedin\", \"null\", \"www\", \"com\", \"email\"]\n",
    "\n",
    "\n",
    "doc = nlp(text)\n",
    "cleaned_text = []\n",
    "\n",
    "\n",
    "for token in doc:\n",
    " \n",
    "    is_valid_token = (\n",
    "        \" \" not in token.text.lower()\n",
    "        and token.text.lower() not in not_needed\n",
    "        and not token.is_stop \n",
    "        and token.is_alpha \n",
    "    )\n",
    "    \n",
    "    if is_valid_token:\n",
    "        cleaned_text.append(token.text.lower())\n",
    "        print(token.text, \" \", token.pos_)\n",
    "\n",
    "cleaned_text = \" \".join(cleaned_text)\n",
    "\n"
   ]
  },
  {
   "cell_type": "code",
   "execution_count": null,
   "metadata": {},
   "outputs": [],
   "source": []
  }
 ],
 "metadata": {
  "kernelspec": {
   "display_name": "myenv",
   "language": "python",
   "name": "python3"
  },
  "language_info": {
   "codemirror_mode": {
    "name": "ipython",
    "version": 3
   },
   "file_extension": ".py",
   "mimetype": "text/x-python",
   "name": "python",
   "nbconvert_exporter": "python",
   "pygments_lexer": "ipython3",
   "version": "3.11.0"
  }
 },
 "nbformat": 4,
 "nbformat_minor": 2
}
